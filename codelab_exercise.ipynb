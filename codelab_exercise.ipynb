{
  "nbformat": 4,
  "nbformat_minor": 0,
  "metadata": {
    "colab": {
      "provenance": [],
      "authorship_tag": "ABX9TyNx1dV2C3p+fJxAVUFkg6hO",
      "include_colab_link": true
    },
    "kernelspec": {
      "name": "python3",
      "display_name": "Python 3"
    },
    "language_info": {
      "name": "python"
    }
  },
  "cells": [
    {
      "cell_type": "markdown",
      "metadata": {
        "id": "view-in-github",
        "colab_type": "text"
      },
      "source": [
        "<a href=\"https://colab.research.google.com/github/basit43/python/blob/main/codelab_exercise.ipynb\" target=\"_parent\"><img src=\"https://colab.research.google.com/assets/colab-badge.svg\" alt=\"Open In Colab\"/></a>"
      ]
    },
    {
      "cell_type": "code",
      "execution_count": null,
      "metadata": {
        "colab": {
          "base_uri": "https://localhost:8080/"
        },
        "id": "_pVUmitNNlfj",
        "outputId": "c22ed773-2fe9-489f-cd08-d90844657ec5"
      },
      "outputs": [
        {
          "output_type": "stream",
          "name": "stdout",
          "text": [
            "Enter the shape (triangle or rectangle)triangle\n",
            "Enter the base of a triangle:5\n",
            "Enter the height of a triangle:3\n",
            "The area of triangle is 7.5\n"
          ]
        }
      ],
      "source": [
        "def calculate_area(base, height, shape_type):\n",
        "\n",
        "  if shape_type == \"triangle\":\n",
        "    return 0.5 * base * height\n",
        "  elif shape_type == \"rectangle\":\n",
        "    return base * height\n",
        "  else:\n",
        "    raise ValueError(\"Unsupported shape type. Use 'triangle' or 'rectangle'.\")\n",
        "\n",
        "try:\n",
        "  shape = input(\"Enter the shape (triangle or rectangle)\").strip().lower()\n",
        "  base = float(input(\"Enter the base of a triangle:\"))\n",
        "  height = float(input(\"Enter the height of a triangle:\"))\n",
        "  area = calculate_area(base, height, shape)\n",
        "  print(f\"The area of triangle is {area}\")\n",
        "except ValueError as e:\n",
        "  print(f\"Error: {e}\")"
      ]
    },
    {
      "cell_type": "code",
      "source": [
        "def steric_shape(number):\n",
        "  if number is None:\n",
        "    number = 5\n",
        "  for i in range(1, number + 1):\n",
        "    print(\"*\" * i)\n",
        "try:\n",
        "  user_input = input(\"Enter the number (leave blank for default 5): \").strip()\n",
        "  number = int(user_input) if user_input else None\n",
        "  steric_shape(number)\n",
        "except ValueError as e:\n",
        "  print(f\"Error: {e}\")"
      ],
      "metadata": {
        "colab": {
          "base_uri": "https://localhost:8080/"
        },
        "id": "AD2sRw1CXYoI",
        "outputId": "58a95c42-de6b-4b9f-e40d-3b5d530a5507"
      },
      "execution_count": null,
      "outputs": [
        {
          "output_type": "stream",
          "name": "stdout",
          "text": [
            "Enter the number (leave blank for default 5): \n",
            "*\n",
            "**\n",
            "***\n",
            "****\n",
            "*****\n"
          ]
        }
      ]
    },
    {
      "cell_type": "code",
      "source": [
        "country_population = {\n",
        "    'China': 143,\n",
        "    'Pakistan': 136,\n",
        "    'USA': 32,\n",
        "    'PAK': 21\n",
        "}\n",
        "def manage_population(user_input):\n",
        "    if user_input == \"print\":\n",
        "      for country, population in country_population.items():\n",
        "        print(f\"{country.lower()} ==> {population}\")\n",
        "    elif user_input == \"add\":\n",
        "      country = input(\"Give a country name to add\").strip()\n",
        "      if(country in country_population):\n",
        "        print(f\"{country} is alr\\eady present in the dictionary\")\n",
        "      elif country not in country_population:\n",
        "        population = input(f\"Give the population of the country\").strip()\n",
        "        country_population[country] = population\n",
        "        print(f\"{country} added successfully {country_population}\")\n",
        "    elif user_input == \"remove\":\n",
        "      country = input(\"Give a country name to remove\").strip()\n",
        "      if (country in country_population):\n",
        "        del country_population[country]\n",
        "        print(f\"{country} is remove from {country_population}\")\n",
        "      elif country not in country_population:\n",
        "        print(f\"{country} is not present in {country_population}\")\n",
        "    elif user_input == \"query\":\n",
        "      country = input(\"Give a country name to query\").strip()\n",
        "      if country in country_population:\n",
        "        print(f\"The population of {country} is {country_population[country]} million\")\n",
        "\n",
        "\n",
        "# Start the function\n",
        "initial_input = input(\"Enter the input (print, add, remove, exit): \").strip().lower()\n",
        "manage_population(initial_input)"
      ],
      "metadata": {
        "colab": {
          "base_uri": "https://localhost:8080/"
        },
        "id": "Tle8wE59YmWQ",
        "outputId": "da410e45-f939-4bfb-e3f8-ef7c3f445cdd"
      },
      "execution_count": 50,
      "outputs": [
        {
          "output_type": "stream",
          "name": "stdout",
          "text": [
            "Enter the input (print, add, remove, exit): query\n",
            "Give a country name to queryPAK\n",
            "The population of PAK is 21 million\n"
          ]
        }
      ]
    },
    {
      "cell_type": "code",
      "source": [
        "stock_prices = {\n",
        "    'info': [600, 630, 620],\n",
        "    'ril': [1430, 1490, 1567],\n",
        "    'mtl': [234, 180, 160]\n",
        "}\n",
        "\n",
        "def stock_operation(user_input):\n",
        "    if user_input == \"print\":\n",
        "        for company, prices in stock_prices.items():\n",
        "            avg = sum(prices) / len(prices)\n",
        "            print(f\"{company} ===> {prices} ===> Avg: {avg:.2f}\")\n",
        "\n",
        "    elif user_input == \"add\":\n",
        "        company = input(\"Enter the company name to add: \").strip()\n",
        "        if company in stock_prices:\n",
        "            print(f\"{company} is already present in the dictionary\")\n",
        "        else:\n",
        "            prices_input = input(f\"Enter stock prices for {company} separated by commas: \").strip()\n",
        "            try:\n",
        "                prices = [int(price) for price in prices_input.split(',')]\n",
        "                stock_prices[company] = prices\n",
        "                print(f\"{company} stock prices added successfully {stock_prices}\")\n",
        "            except ValueError:\n",
        "                print(\"Invalid Value: Please enter numbers separated by commas.\")\n",
        "\n",
        "# Get user input and run\n",
        "user_input = input(\"Enter the input (print, add or query): \").strip().lower()\n",
        "stock_operation(user_input)\n"
      ],
      "metadata": {
        "colab": {
          "base_uri": "https://localhost:8080/"
        },
        "id": "yUwL-H5NmRAB",
        "outputId": "8c222530-6518-4454-96cb-5db548fd8956"
      },
      "execution_count": 5,
      "outputs": [
        {
          "output_type": "stream",
          "name": "stdout",
          "text": [
            "Enter the input (print, add or query): add\n",
            "Enter the company name to add: Netsol\n",
            "Enter stock prices for Netsol separated by commas: 321\n",
            "Netsol stock prices added successfully {'info': [600, 630, 620], 'ril': [1430, 1490, 1567], 'mtl': [234, 180, 160], 'Netsol': [321]}\n"
          ]
        }
      ]
    },
    {
      "cell_type": "code",
      "source": [
        "def circle_calc(user_input):\n",
        "  diameter = 2 * float(user_input)\n",
        "  circumference = 2 * 3.14 * float(user_input)\n",
        "  area = 3.14 * float(user_input) **2\n",
        "  print(f\"The diameter of the circle is {diameter}\")\n",
        "  print(f\"The circumference of the circle is {circumference}\")\n",
        "  print(f\"The area of the circle is {area}\")\n",
        "\n",
        "user_input = input(\"Enter the radius of the circle\").strip()\n",
        "circle_calc(user_input)"
      ],
      "metadata": {
        "colab": {
          "base_uri": "https://localhost:8080/"
        },
        "id": "YlUozmKZ-se4",
        "outputId": "09d8ed25-5ca5-4490-a779-12248b29647d"
      },
      "execution_count": 6,
      "outputs": [
        {
          "output_type": "stream",
          "name": "stdout",
          "text": [
            "Enter the radius of the circle2\n",
            "The diameter of the circle is 4.0\n",
            "The circumference of the circle is 12.56\n",
            "The area of the circle is 12.56\n"
          ]
        }
      ]
    }
  ]
}