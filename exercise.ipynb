{
  "nbformat": 4,
  "nbformat_minor": 0,
  "metadata": {
    "colab": {
      "provenance": [],
      "authorship_tag": "ABX9TyPHvlJ7ayYjydy1zSI+kUyq",
      "include_colab_link": true
    },
    "kernelspec": {
      "name": "python3",
      "display_name": "Python 3"
    },
    "language_info": {
      "name": "python"
    }
  },
  "cells": [
    {
      "cell_type": "markdown",
      "metadata": {
        "id": "view-in-github",
        "colab_type": "text"
      },
      "source": [
        "<a href=\"https://colab.research.google.com/github/basit43/python/blob/main/exercise.ipynb\" target=\"_parent\"><img src=\"https://colab.research.google.com/assets/colab-badge.svg\" alt=\"Open In Colab\"/></a>"
      ]
    },
    {
      "cell_type": "code",
      "execution_count": null,
      "metadata": {
        "colab": {
          "base_uri": "https://localhost:8080/"
        },
        "id": "_pVUmitNNlfj",
        "outputId": "c22ed773-2fe9-489f-cd08-d90844657ec5"
      },
      "outputs": [
        {
          "output_type": "stream",
          "name": "stdout",
          "text": [
            "Enter the shape (triangle or rectangle)triangle\n",
            "Enter the base of a triangle:5\n",
            "Enter the height of a triangle:3\n",
            "The area of triangle is 7.5\n"
          ]
        }
      ],
      "source": [
        "def calculate_area(base, height, shape_type):\n",
        "\n",
        "  if shape_type == \"triangle\":\n",
        "    return 0.5 * base * height\n",
        "  elif shape_type == \"rectangle\":\n",
        "    return base * height\n",
        "  else:\n",
        "    raise ValueError(\"Unsupported shape type. Use 'triangle' or 'rectangle'.\")\n",
        "\n",
        "try:\n",
        "  shape = input(\"Enter the shape (triangle or rectangle)\").strip().lower()\n",
        "  base = float(input(\"Enter the base of a triangle:\"))\n",
        "  height = float(input(\"Enter the height of a triangle:\"))\n",
        "  area = calculate_area(base, height, shape)\n",
        "  print(f\"The area of triangle is {area}\")\n",
        "except ValueError as e:\n",
        "  print(f\"Error: {e}\")"
      ]
    },
    {
      "cell_type": "code",
      "source": [
        "def steric_shape(number):\n",
        "  if number is None:\n",
        "    number = 5\n",
        "  for i in range(1, number + 1):\n",
        "    print(\"*\" * i)\n",
        "try:\n",
        "  user_input = input(\"Enter the number (leave blank for default 5): \").strip()\n",
        "  number = int(user_input) if user_input else None\n",
        "  steric_shape(number)\n",
        "except ValueError as e:\n",
        "  print(f\"Error: {e}\")"
      ],
      "metadata": {
        "colab": {
          "base_uri": "https://localhost:8080/"
        },
        "id": "AD2sRw1CXYoI",
        "outputId": "58a95c42-de6b-4b9f-e40d-3b5d530a5507"
      },
      "execution_count": null,
      "outputs": [
        {
          "output_type": "stream",
          "name": "stdout",
          "text": [
            "Enter the number (leave blank for default 5): \n",
            "*\n",
            "**\n",
            "***\n",
            "****\n",
            "*****\n"
          ]
        }
      ]
    },
    {
      "cell_type": "code",
      "source": [
        "country_population = {\n",
        "    'China': 143,\n",
        "    'Pakistan': 136,\n",
        "    'USA': 32,\n",
        "    'PAK': 21\n",
        "}\n",
        "def manage_population(user_input):\n",
        "    if user_input == \"print\":\n",
        "      for country, population in country_population.items():\n",
        "        print(f\"{country.lower()} ==> {population}\")\n",
        "    elif user_input == \"add\":\n",
        "      country = input(\"Give a country name to add\").strip()\n",
        "      if(country in country_population):\n",
        "        print(f\"{country} is alr\\eady present in the dictionary\")\n",
        "      elif country not in country_population:\n",
        "        population = input(f\"Give the population of the country\").strip()\n",
        "        country_population[country] = population\n",
        "        print(f\"{country} added successfully {country_population}\")\n",
        "    elif user_input == \"remove\":\n",
        "      country = input(\"Give a country name to remove\").strip()\n",
        "      if (country in country_population):\n",
        "        del country_population[country]\n",
        "        print(f\"{country} is remove from {country_population}\")\n",
        "      elif country not in country_population:\n",
        "        print(f\"{country} is not present in {country_population}\")\n",
        "    elif user_input == \"query\":\n",
        "      country = input(\"Give a country name to query\").strip()\n",
        "      if country in country_population:\n",
        "        print(f\"The population of {country} is {country_population[country]} million\")\n",
        "\n",
        "\n",
        "# Start the function\n",
        "initial_input = input(\"Enter the input (print, add, remove, exit): \").strip().lower()\n",
        "manage_population(initial_input)"
      ],
      "metadata": {
        "colab": {
          "base_uri": "https://localhost:8080/"
        },
        "id": "Tle8wE59YmWQ",
        "outputId": "da410e45-f939-4bfb-e3f8-ef7c3f445cdd"
      },
      "execution_count": 50,
      "outputs": [
        {
          "output_type": "stream",
          "name": "stdout",
          "text": [
            "Enter the input (print, add, remove, exit): query\n",
            "Give a country name to queryPAK\n",
            "The population of PAK is 21 million\n"
          ]
        }
      ]
    }
  ]
}